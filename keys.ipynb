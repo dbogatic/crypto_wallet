{
 "metadata": {
  "language_info": {
   "codemirror_mode": {
    "name": "ipython",
    "version": 3
   },
   "file_extension": ".py",
   "mimetype": "text/x-python",
   "name": "python",
   "nbconvert_exporter": "python",
   "pygments_lexer": "ipython3",
   "version": "3.7.7-final"
  },
  "orig_nbformat": 2,
  "kernelspec": {
   "name": "python3",
   "display_name": "Python 3",
   "language": "python"
  }
 },
 "nbformat": 4,
 "nbformat_minor": 2,
 "cells": [
  {
   "cell_type": "code",
   "execution_count": 1,
   "metadata": {},
   "outputs": [],
   "source": [
    "import pandas as pd"
   ]
  },
  {
   "cell_type": "code",
   "execution_count": 2,
   "metadata": {},
   "outputs": [],
   "source": [
    "# printed keys which were created with hd derive\n",
    "\n",
    "eth_keys_df = pd.read_csv(\"resources/eth_keys\")\n",
    "btc_test_keys_df = pd.read_csv(\"resources/btc_test_keys\")"
   ]
  },
  {
   "cell_type": "code",
   "execution_count": 3,
   "metadata": {},
   "outputs": [
    {
     "output_type": "execute_result",
     "data": {
      "text/plain": [
       "   Unnamed: 0              path                                     address  \\\n",
       "0           0  m/44'/60'/0'/0/0  0x33EfD6454eb5df2e970558BAce37979EB2B280f1   \n",
       "1           1  m/44'/60'/0'/0/1  0xF359F96A4F8798ddf38724279d20e60FB1d4aCE1   \n",
       "2           2  m/44'/60'/0'/0/2  0x775Ad0ddCAC3975730b2CDa1bb477F4b920E4E8c   \n",
       "\n",
       "                                             privkey  \\\n",
       "0  0x5896a2591461777e724e139aa66b7db5c1dccd9639b0...   \n",
       "1  0x1e59938359c49069b10872c1bc2b1431c37f56e5ff52...   \n",
       "2  0x48501435a62f205b6a83b6cd2973e4c2fdd0d12bc65b...   \n",
       "\n",
       "                                              pubkey  \n",
       "0  02fb2d3c776bbd2faf69c744f747a7d28225460e610093...  \n",
       "1  03f99e51a760fcfef4548528a91a98f4df025d2503d495...  \n",
       "2  038c8d40623b506287f68954034f70cfad81013aa351bb...  "
      ],
      "text/html": "<div>\n<style scoped>\n    .dataframe tbody tr th:only-of-type {\n        vertical-align: middle;\n    }\n\n    .dataframe tbody tr th {\n        vertical-align: top;\n    }\n\n    .dataframe thead th {\n        text-align: right;\n    }\n</style>\n<table border=\"1\" class=\"dataframe\">\n  <thead>\n    <tr style=\"text-align: right;\">\n      <th></th>\n      <th>Unnamed: 0</th>\n      <th>path</th>\n      <th>address</th>\n      <th>privkey</th>\n      <th>pubkey</th>\n    </tr>\n  </thead>\n  <tbody>\n    <tr>\n      <th>0</th>\n      <td>0</td>\n      <td>m/44'/60'/0'/0/0</td>\n      <td>0x33EfD6454eb5df2e970558BAce37979EB2B280f1</td>\n      <td>0x5896a2591461777e724e139aa66b7db5c1dccd9639b0...</td>\n      <td>02fb2d3c776bbd2faf69c744f747a7d28225460e610093...</td>\n    </tr>\n    <tr>\n      <th>1</th>\n      <td>1</td>\n      <td>m/44'/60'/0'/0/1</td>\n      <td>0xF359F96A4F8798ddf38724279d20e60FB1d4aCE1</td>\n      <td>0x1e59938359c49069b10872c1bc2b1431c37f56e5ff52...</td>\n      <td>03f99e51a760fcfef4548528a91a98f4df025d2503d495...</td>\n    </tr>\n    <tr>\n      <th>2</th>\n      <td>2</td>\n      <td>m/44'/60'/0'/0/2</td>\n      <td>0x775Ad0ddCAC3975730b2CDa1bb477F4b920E4E8c</td>\n      <td>0x48501435a62f205b6a83b6cd2973e4c2fdd0d12bc65b...</td>\n      <td>038c8d40623b506287f68954034f70cfad81013aa351bb...</td>\n    </tr>\n  </tbody>\n</table>\n</div>"
     },
     "metadata": {},
     "execution_count": 3
    }
   ],
   "source": [
    "eth_keys_df"
   ]
  },
  {
   "cell_type": "code",
   "execution_count": 4,
   "metadata": {},
   "outputs": [
    {
     "output_type": "execute_result",
     "data": {
      "text/plain": [
       "   Unnamed: 0             path                             address  \\\n",
       "0           0  m/44'/1'/0'/0/0  miH2nBqm9g85vtufeyVUbhmBP4znziV3tW   \n",
       "1           1  m/44'/1'/0'/0/1  n1RdWn8KdvGx9u2SxuG8Lxnvg6R7hRtDVC   \n",
       "2           2  m/44'/1'/0'/0/2  mybUK7WN8xe1q3qubG3odJjL1btkPYYmkC   \n",
       "\n",
       "                                             privkey  \\\n",
       "0  cRNtdBvAHV7NXmxWaRv8g2p9btGD2TJExwnqKEK7miHsdg...   \n",
       "1  cSdBhZwx6AraYDTucAKidSr1pvaRwnj3wXpk5dosjsRQP2...   \n",
       "2  cTzQFUjTeh5ZofXug6xB5m1YgNM8jDKDJJhS9eScy2uYWS...   \n",
       "\n",
       "                                              pubkey  \n",
       "0  03eebe279b435c23790b14aa431e146c5423cd62a29b65...  \n",
       "1  0312fce565b76deded5af10dd8e339b107c89abf8fc59a...  \n",
       "2  0331b0ee968788beaa3027c6313e32041b3e2b19afe8be...  "
      ],
      "text/html": "<div>\n<style scoped>\n    .dataframe tbody tr th:only-of-type {\n        vertical-align: middle;\n    }\n\n    .dataframe tbody tr th {\n        vertical-align: top;\n    }\n\n    .dataframe thead th {\n        text-align: right;\n    }\n</style>\n<table border=\"1\" class=\"dataframe\">\n  <thead>\n    <tr style=\"text-align: right;\">\n      <th></th>\n      <th>Unnamed: 0</th>\n      <th>path</th>\n      <th>address</th>\n      <th>privkey</th>\n      <th>pubkey</th>\n    </tr>\n  </thead>\n  <tbody>\n    <tr>\n      <th>0</th>\n      <td>0</td>\n      <td>m/44'/1'/0'/0/0</td>\n      <td>miH2nBqm9g85vtufeyVUbhmBP4znziV3tW</td>\n      <td>cRNtdBvAHV7NXmxWaRv8g2p9btGD2TJExwnqKEK7miHsdg...</td>\n      <td>03eebe279b435c23790b14aa431e146c5423cd62a29b65...</td>\n    </tr>\n    <tr>\n      <th>1</th>\n      <td>1</td>\n      <td>m/44'/1'/0'/0/1</td>\n      <td>n1RdWn8KdvGx9u2SxuG8Lxnvg6R7hRtDVC</td>\n      <td>cSdBhZwx6AraYDTucAKidSr1pvaRwnj3wXpk5dosjsRQP2...</td>\n      <td>0312fce565b76deded5af10dd8e339b107c89abf8fc59a...</td>\n    </tr>\n    <tr>\n      <th>2</th>\n      <td>2</td>\n      <td>m/44'/1'/0'/0/2</td>\n      <td>mybUK7WN8xe1q3qubG3odJjL1btkPYYmkC</td>\n      <td>cTzQFUjTeh5ZofXug6xB5m1YgNM8jDKDJJhS9eScy2uYWS...</td>\n      <td>0331b0ee968788beaa3027c6313e32041b3e2b19afe8be...</td>\n    </tr>\n  </tbody>\n</table>\n</div>"
     },
     "metadata": {},
     "execution_count": 4
    }
   ],
   "source": [
    "btc_test_keys_df"
   ]
  },
  {
   "cell_type": "code",
   "execution_count": 5,
   "metadata": {},
   "outputs": [],
   "source": [
    "# private ETH and BTC-test keys we will use for ETH and BTC transaction\n",
    "\n",
    "eth_priv_keys = eth_keys_df[\"privkey\"]\n",
    "btc_test_priv_keys = btc_test_keys_df['privkey']"
   ]
  },
  {
   "cell_type": "code",
   "execution_count": 6,
   "metadata": {},
   "outputs": [
    {
     "output_type": "execute_result",
     "data": {
      "text/plain": [
       "0    cRNtdBvAHV7NXmxWaRv8g2p9btGD2TJExwnqKEK7miHsdg...\n",
       "1    cSdBhZwx6AraYDTucAKidSr1pvaRwnj3wXpk5dosjsRQP2...\n",
       "2    cTzQFUjTeh5ZofXug6xB5m1YgNM8jDKDJJhS9eScy2uYWS...\n",
       "Name: privkey, dtype: object"
      ]
     },
     "metadata": {},
     "execution_count": 6
    }
   ],
   "source": [
    "# print BTC-test private keys\n",
    "\n",
    "btc_test_priv_keys"
   ]
  },
  {
   "cell_type": "code",
   "execution_count": 7,
   "metadata": {},
   "outputs": [
    {
     "output_type": "execute_result",
     "data": {
      "text/plain": [
       "0    0x5896a2591461777e724e139aa66b7db5c1dccd9639b0...\n",
       "1    0x1e59938359c49069b10872c1bc2b1431c37f56e5ff52...\n",
       "2    0x48501435a62f205b6a83b6cd2973e4c2fdd0d12bc65b...\n",
       "Name: privkey, dtype: object"
      ]
     },
     "metadata": {},
     "execution_count": 7
    }
   ],
   "source": [
    "eth_priv_keys"
   ]
  },
  {
   "cell_type": "code",
   "execution_count": 8,
   "metadata": {},
   "outputs": [
    {
     "output_type": "execute_result",
     "data": {
      "text/plain": [
       "0    miH2nBqm9g85vtufeyVUbhmBP4znziV3tW\n",
       "1    n1RdWn8KdvGx9u2SxuG8Lxnvg6R7hRtDVC\n",
       "2    mybUK7WN8xe1q3qubG3odJjL1btkPYYmkC\n",
       "Name: address, dtype: object"
      ]
     },
     "metadata": {},
     "execution_count": 8
    }
   ],
   "source": [
    "btc_test_public_address = btc_test_keys_df[\"address\"]\n",
    "btc_test_public_address"
   ]
  },
  {
   "cell_type": "code",
   "execution_count": 9,
   "metadata": {},
   "outputs": [
    {
     "output_type": "execute_result",
     "data": {
      "text/plain": [
       "0    0x33EfD6454eb5df2e970558BAce37979EB2B280f1\n",
       "1    0xF359F96A4F8798ddf38724279d20e60FB1d4aCE1\n",
       "2    0x775Ad0ddCAC3975730b2CDa1bb477F4b920E4E8c\n",
       "Name: address, dtype: object"
      ]
     },
     "metadata": {},
     "execution_count": 9
    }
   ],
   "source": [
    "eth_public_address = eth_keys_df[\"address\"]\n",
    "eth_public_address"
   ]
  },
  {
   "cell_type": "code",
   "execution_count": 10,
   "metadata": {},
   "outputs": [
    {
     "output_type": "execute_result",
     "data": {
      "text/plain": [
       "'0x5896a2591461777e724e139aa66b7db5c1dccd9639b05fdc331a730e93f4a455'"
      ]
     },
     "metadata": {},
     "execution_count": 10
    }
   ],
   "source": [
    "eth_select_priv_key = eth_priv_keys.iloc[0]\n",
    "eth_select_priv_key"
   ]
  },
  {
   "cell_type": "code",
   "execution_count": 11,
   "metadata": {},
   "outputs": [
    {
     "output_type": "execute_result",
     "data": {
      "text/plain": [
       "'cRNtdBvAHV7NXmxWaRv8g2p9btGD2TJExwnqKEK7miHsdgUceNZi'"
      ]
     },
     "metadata": {},
     "execution_count": 11
    }
   ],
   "source": [
    "btc_test_select_priv_key = btc_test_priv_keys.iloc[0]\n",
    "btc_test_select_priv_key"
   ]
  }
 ]
}