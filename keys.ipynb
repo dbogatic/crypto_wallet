{
 "metadata": {
  "language_info": {
   "codemirror_mode": {
    "name": "ipython",
    "version": 3
   },
   "file_extension": ".py",
   "mimetype": "text/x-python",
   "name": "python",
   "nbconvert_exporter": "python",
   "pygments_lexer": "ipython3",
   "version": "3.7.7-final"
  },
  "orig_nbformat": 2,
  "kernelspec": {
   "name": "python3",
   "display_name": "Python 3",
   "language": "python"
  }
 },
 "nbformat": 4,
 "nbformat_minor": 2,
 "cells": [
  {
   "cell_type": "code",
   "execution_count": 1,
   "metadata": {},
   "outputs": [],
   "source": [
    "import pandas as pd"
   ]
  },
  {
   "cell_type": "code",
   "execution_count": 2,
   "metadata": {},
   "outputs": [],
   "source": [
    "# printed keys which were created with hd derive\n",
    "\n",
    "eth_keys_df = pd.read_csv(\"resources/eth_keys\")\n",
    "btc_test_keys_df = pd.read_csv(\"resources/btc_test_keys\")"
   ]
  },
  {
   "cell_type": "code",
   "execution_count": 3,
   "metadata": {},
   "outputs": [],
   "source": [
    "# private ETH and BTC-test keys we will use for ETH and BTC transaction\n",
    "\n",
    "eth_priv_keys = eth_keys_df[\"privkey\"]\n",
    "btc_test_priv_keys = btc_test_keys_df['privkey']"
   ]
  },
  {
   "cell_type": "code",
   "execution_count": 4,
   "metadata": {},
   "outputs": [
    {
     "output_type": "execute_result",
     "data": {
      "text/plain": [
       "0    cRNtdBvAHV7NXmxWaRv8g2p9btGD2TJExwnqKEK7miHsdg...\n",
       "1    cSdBhZwx6AraYDTucAKidSr1pvaRwnj3wXpk5dosjsRQP2...\n",
       "2    cTzQFUjTeh5ZofXug6xB5m1YgNM8jDKDJJhS9eScy2uYWS...\n",
       "Name: privkey, dtype: object"
      ]
     },
     "metadata": {},
     "execution_count": 4
    }
   ],
   "source": [
    "# print BTC-test private keys\n",
    "\n",
    "btc_test_priv_keys"
   ]
  },
  {
   "cell_type": "code",
   "execution_count": 5,
   "metadata": {},
   "outputs": [
    {
     "output_type": "execute_result",
     "data": {
      "text/plain": [
       "0    0x5896a2591461777e724e139aa66b7db5c1dccd9639b0...\n",
       "1    0x1e59938359c49069b10872c1bc2b1431c37f56e5ff52...\n",
       "2    0x48501435a62f205b6a83b6cd2973e4c2fdd0d12bc65b...\n",
       "Name: privkey, dtype: object"
      ]
     },
     "metadata": {},
     "execution_count": 5
    }
   ],
   "source": [
    "# print ETH private keys\n",
    "\n",
    "eth_priv_keys"
   ]
  },
  {
   "cell_type": "code",
   "execution_count": null,
   "metadata": {},
   "outputs": [],
   "source": []
  }
 ]
}