{
 "metadata": {
  "language_info": {
   "codemirror_mode": {
    "name": "ipython",
    "version": 3
   },
   "file_extension": ".py",
   "mimetype": "text/x-python",
   "name": "python",
   "nbconvert_exporter": "python",
   "pygments_lexer": "ipython3",
   "version": "3.7.7-final"
  },
  "orig_nbformat": 2,
  "kernelspec": {
   "name": "python3",
   "display_name": "Python 3",
   "language": "python"
  }
 },
 "nbformat": 4,
 "nbformat_minor": 2,
 "cells": [
  {
   "cell_type": "code",
   "execution_count": 9,
   "metadata": {},
   "outputs": [],
   "source": [
    "import pandas as pd"
   ]
  },
  {
   "cell_type": "code",
   "execution_count": 10,
   "metadata": {},
   "outputs": [],
   "source": [
    "eth_keys_df = pd.read_csv(\"resources/eth_keys\")\n",
    "btc_keys_df = pd.read_csv(\"resources/btc_keys\")"
   ]
  },
  {
   "cell_type": "code",
   "execution_count": 15,
   "metadata": {},
   "outputs": [],
   "source": [
    "eth_priv_keys = eth_keys_df[\"privkey\"]\n",
    "btc_priv_keys = btc_keys_df['privkey']"
   ]
  },
  {
   "cell_type": "code",
   "execution_count": 19,
   "metadata": {},
   "outputs": [
    {
     "output_type": "execute_result",
     "data": {
      "text/plain": [
       "0    L3LYzVsoDaBrgZAWUo5i1NZJAQRUGWX4RDjKdj5D872Aj8...\n",
       "1    L3TxisiuPqioPuELBMgo4b1k85FfvFUaBbMjvCy81giuoH...\n",
       "2    L5itQQoAbFaxr1PcT8GUSdXFD1J3mVnh2n3F5MYes5agb1...\n",
       "Name: privkey, dtype: object"
      ]
     },
     "metadata": {},
     "execution_count": 19
    }
   ],
   "source": [
    "btc_priv_keys"
   ]
  },
  {
   "cell_type": "code",
   "execution_count": 17,
   "metadata": {},
   "outputs": [
    {
     "output_type": "execute_result",
     "data": {
      "text/plain": [
       "0    L5SvveQhQhEbPHc5PvAMwVW4kKQX4UwE2vCHWQdv897D7i...\n",
       "1    L3kjmfYjyxZLz9q9YZ7pyRFDS6hcoNhBCHTJuC6rKcHZuu...\n",
       "2    Kz6d5RpeF9DmvQ4Mfpv1VLBfHgWx4W8hQyyCCWi5BHhoSW...\n",
       "Name: privkey, dtype: object"
      ]
     },
     "metadata": {},
     "execution_count": 17
    }
   ],
   "source": [
    "eth_priv_keys"
   ]
  }
 ]
}