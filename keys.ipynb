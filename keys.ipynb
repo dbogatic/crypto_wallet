{
 "metadata": {
  "language_info": {
   "codemirror_mode": {
    "name": "ipython",
    "version": 3
   },
   "file_extension": ".py",
   "mimetype": "text/x-python",
   "name": "python",
   "nbconvert_exporter": "python",
   "pygments_lexer": "ipython3",
   "version": "3.8.5-final"
  },
  "orig_nbformat": 2,
  "kernelspec": {
   "name": "python3",
   "display_name": "Python 3",
   "language": "python"
  }
 },
 "nbformat": 4,
 "nbformat_minor": 2,
 "cells": [
  {
   "cell_type": "code",
   "execution_count": 5,
   "metadata": {},
   "outputs": [],
   "source": [
    "import pandas as pd"
   ]
  },
  {
   "cell_type": "code",
   "execution_count": 6,
   "metadata": {},
   "outputs": [],
   "source": [
    "keys_df = pd.read_csv(\"resources/keys\")"
   ]
  },
  {
   "cell_type": "code",
   "execution_count": 8,
   "metadata": {},
   "outputs": [
    {
     "output_type": "execute_result",
     "data": {
      "text/plain": [
       "0    L2br8Z1LD6Gokgc1DfsWod3vE9b96hyUeJQzFraxR73Z1a...\n",
       "1    L3wWA38W5ZsHMvrm1dVrEQjYuKMAodaiLDfcKeye1gciSQ...\n",
       "2    L2rqW8qewFUgTjVCHgYqdhfdZy9gfSYFCbuemfq7cJDnae...\n",
       "3    L4pBaDviyXsx8VjR8WxLgxY1y51gezDhC58HuqCJsbEXwq...\n",
       "4    Kwexd68BUXvS2yYVo4P5A1sf1VmgN8HJA6BVypEnU8VVUQ...\n",
       "5    Ky6Fcoz135Wyus1arD6FkmTCdUsL3qyND1JbWo2pvi4Mws...\n",
       "6    KwiwTFpf8nY8Mk8H6nZjdivLvPGdeTrydUsE4YpkfVC2Vi...\n",
       "7    Ky5rydXAySULWxvdi9G3tNNby8YMpKRjeQFrYVZNYgbK5n...\n",
       "8    KzPYgNYyUjxAnzDZgVg6F6uCpRHVDPHhpZqyuk8XuSqf3o...\n",
       "9    L3sQKbwGNPHLYguXE4JStD3JHytMFUTHZAaXJHmm2in14C...\n",
       "Name: privkey, dtype: object"
      ]
     },
     "metadata": {},
     "execution_count": 8
    }
   ],
   "source": [
    "private_keys = keys_df[\"privkey\"]\n",
    "private_keys"
   ]
  },
  {
   "cell_type": "code",
   "execution_count": null,
   "metadata": {},
   "outputs": [],
   "source": []
  }
 ]
}