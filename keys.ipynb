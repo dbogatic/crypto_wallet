{
 "metadata": {
  "language_info": {
   "codemirror_mode": {
    "name": "ipython",
    "version": 3
   },
   "file_extension": ".py",
   "mimetype": "text/x-python",
   "name": "python",
   "nbconvert_exporter": "python",
   "pygments_lexer": "ipython3",
   "version": "3.7.7-final"
  },
  "orig_nbformat": 2,
  "kernelspec": {
   "name": "python3",
   "display_name": "Python 3",
   "language": "python"
  }
 },
 "nbformat": 4,
 "nbformat_minor": 2,
 "cells": [
  {
   "cell_type": "code",
   "execution_count": 1,
   "metadata": {},
   "outputs": [],
   "source": [
    "import pandas as pd"
   ]
  },
  {
   "cell_type": "code",
   "execution_count": 2,
   "metadata": {},
   "outputs": [],
   "source": [
    "eth_keys_df = pd.read_csv(\"resources/eth_keys\")\n",
    "btc_test_keys_df = pd.read_csv(\"resources/btc_test_keys\")"
   ]
  },
  {
   "cell_type": "code",
   "execution_count": 3,
   "metadata": {},
   "outputs": [],
   "source": [
    "eth_priv_keys = eth_keys_df[\"privkey\"]\n",
    "btc_test_priv_keys = btc_test_keys_df['privkey']"
   ]
  },
  {
   "cell_type": "code",
   "execution_count": 4,
   "metadata": {},
   "outputs": [
    {
     "output_type": "execute_result",
     "data": {
      "text/plain": [
       "0    L5ZHeuXaXpS4Kd77SpD63GbnZu6ySXNwsyzpVgtBf374ts...\n",
       "1    L5Wjebb3TgdnzgfJKapFxngknn5gcwFDiaMh8B4jw7LF91...\n",
       "2    L4qPfXUpvveoGJ7R2HtNtWu3Us9DJqtBZfW9QHvieCigmR...\n",
       "Name: privkey, dtype: object"
      ]
     },
     "metadata": {},
     "execution_count": 4
    }
   ],
   "source": [
    "btc_test_priv_keys"
   ]
  },
  {
   "cell_type": "code",
   "execution_count": 5,
   "metadata": {},
   "outputs": [
    {
     "output_type": "execute_result",
     "data": {
      "text/plain": [
       "0    L3jBuKAE82ZrrjGXxiVoT6y9KyXesU6UucRBDUk8Dn5X4V...\n",
       "1    KxgZBDMVmBw6RE9GVE6VjcvpsoaW5GTnb2U6p6tPFXXK8a...\n",
       "2    L11zmDA1ZvSk5nxSPTK7KNKJepP6AjfBfFrenFwgPiP96p...\n",
       "Name: privkey, dtype: object"
      ]
     },
     "metadata": {},
     "execution_count": 5
    }
   ],
   "source": [
    "eth_priv_keys"
   ]
  },
  {
   "cell_type": "code",
   "execution_count": null,
   "metadata": {},
   "outputs": [],
   "source": []
  }
 ]
}